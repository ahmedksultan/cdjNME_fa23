{
 "cells": [
  {
   "cell_type": "markdown",
   "id": "ae8be984",
   "metadata": {},
   "source": [
    "### NME 1 — Saturday, October 21st, 2023\n",
    "# introduction to Python\n",
    "## what is Python?\n",
    "Python is a high-level programming language, widely used due to its relative simplicity and readability. Python's versatility makes it suitable for diverse applications, including web development, data analysis, artificial intelligence, and scientific computing (much of which we do in CDJ!). \n",
    "\n",
    "In Python, **indentation** is used to define blocks of code, enhancing the readability of programs. Comments, denoted by the **'#' symbol**, allow developers to annotate their code.\n",
    "\n",
    "There are many ways to interact and develop within a Python context, but often programmers will use integrated development environments (IDEs) like IntelliJ's PyCharm and Jupyter Notebook. We will use Jupyter Notebook, which offers an interactive, cell-based approach to writing and excuting snippets of Python code in real time.\n",
    "\n",
    "This is by no means an in-depth tutorial of Python, but this should provide the general foundation you need to continue to learn and grow throughout the semester. Additionally, this exercise should empower you to explore the Python documentation (https://docs.python.org/3/), which will continue to be a reference point throughout your programming career."
   ]
  },
  {
   "cell_type": "markdown",
   "id": "9d05ab36",
   "metadata": {},
   "source": [
    "## hello, world!\n",
    "\n",
    "Perhaps the most overused trope/tradition in programming is getting your program to print \"Hello, World!\". In Python, this can be achieved using `print()` statements, where the content you would like to print goes in between the parentheses.\n",
    "\n",
    "Text, like \"Hello, World\", are referred to as `strings` in Python, and must be wrapped in single (') or double (\") quotation marks to be valid.\n",
    "\n",
    "Let's try putting those two things together: try using the Code cell below this explanation to write `print(\"hello, world!\")`. \n",
    "\n",
    "Execute by using the Run button at the top of the Notebook (or Cmd+Enter)."
   ]
  },
  {
   "cell_type": "code",
   "execution_count": null,
   "id": "ecd564b7",
   "metadata": {},
   "outputs": [],
   "source": [
    "# type the command below this comment\n",
    "# when you're done, execute the cell (number should appear in left brackets)\n"
   ]
  },
  {
   "cell_type": "markdown",
   "id": "472da2f7",
   "metadata": {},
   "source": [
    "## basic python syntax\n",
    "\n",
    "In Python, there are a number of primitive data types available to you (`strings` (text), `ints` (integers), `floats` (decimal numbers), etc.). These can be assigned to variables. Try running the below code cell."
   ]
  },
  {
   "cell_type": "code",
   "execution_count": null,
   "id": "0cdaa6df",
   "metadata": {},
   "outputs": [],
   "source": [
    "name = \"ahmed\"\n",
    "age = 21\n",
    "height = 6.1\n",
    "\n",
    "print(\"name:\", name, \"\\nage:\", age, \"\\nheight:\", height)\n",
    "# ^ the '\\n' character creates a new line!"
   ]
  },
  {
   "cell_type": "markdown",
   "id": "ff3bcf5e",
   "metadata": {},
   "source": [
    "Try changing the variables below, execute the cell, and then try running the cell underneath it to print out the updated information!"
   ]
  },
  {
   "cell_type": "code",
   "execution_count": null,
   "id": "5a26ebad",
   "metadata": {},
   "outputs": [],
   "source": [
    "# update your information here and run cell\n"
   ]
  },
  {
   "cell_type": "code",
   "execution_count": null,
   "id": "a4cbb9a7",
   "metadata": {},
   "outputs": [],
   "source": [
    "# run this cell after you've executed the cell above\n",
    "print(\"name:\", name, \"\\nage:\", age, \"\\nheight:\", height)"
   ]
  },
  {
   "cell_type": "markdown",
   "id": "96fde231",
   "metadata": {},
   "source": [
    "**Let's talk about operators!** There are three types of operators in Python: **arithmetic** (addition, subtraction, multiplication (product), and division—both quotient and remainder), **comparison** (equal, not equal, greater than, or less than, etc.), and **logical** (and, or not, etc.).\n",
    "\n",
    "See examples of arithmetic operations below."
   ]
  },
  {
   "cell_type": "code",
   "execution_count": null,
   "id": "b479100c",
   "metadata": {},
   "outputs": [],
   "source": [
    "add = 5 + 9 \n",
    "sub = 6 - 2\n",
    "mult = 4 * 9 \n",
    "quot = 15 / 3 # always returns float\n",
    "rem = 17 % 4 # the % is called a modulo operation\n",
    "\n",
    "print(add, sub, mult, quot, rem)"
   ]
  },
  {
   "cell_type": "markdown",
   "id": "3ad56bf5",
   "metadata": {},
   "source": [
    "Let's try an exercise in the form of a puzzle. Try setting the variables `a`, `b`, `c`, `d`, and `e` to the outputs (i.e. `a` should result in 10, `b` should result in 5, etc.) using arithmetic operations."
   ]
  },
  {
   "cell_type": "code",
   "execution_count": null,
   "id": "100f28dc",
   "metadata": {},
   "outputs": [],
   "source": [
    "# set variables here and run cell\n"
   ]
  },
  {
   "cell_type": "code",
   "execution_count": null,
   "id": "d85b5f4a",
   "metadata": {},
   "outputs": [],
   "source": [
    "# run this cell after you've executed the cell above\n",
    "print(a, b, c, d, e) # output should be: 10 5 24 2.5 3"
   ]
  },
  {
   "cell_type": "markdown",
   "id": "e2a8407b",
   "metadata": {},
   "source": [
    "Here are examples of comparison operators. Execute the cell below to see output."
   ]
  },
  {
   "cell_type": "code",
   "execution_count": null,
   "id": "2825ab20",
   "metadata": {},
   "outputs": [],
   "source": [
    "x = 8\n",
    "y = 9\n",
    "\n",
    "is_equal = (x == y) # <-- note the double equals sign!\n",
    "not_equal = (x != y)\n",
    "greater_than = (x > y)\n",
    "less_than = (x < y)\n",
    "\n",
    "print(is_equal, not_equal, greater_than, less_than)"
   ]
  },
  {
   "cell_type": "markdown",
   "id": "fb0ffe75",
   "metadata": {},
   "source": [
    "Here are examples of logical operators. Execute the cell below to see output."
   ]
  },
  {
   "cell_type": "code",
   "execution_count": null,
   "id": "88160cc1",
   "metadata": {},
   "outputs": [],
   "source": [
    "logical_and = (x > 0) and (x < 10)\n",
    "logical_or = (x > 0) or (y < 0)\n",
    "logical_not = not (x > 0)\n",
    "\n",
    "print(logical_and, logical_or, logical_not)"
   ]
  },
  {
   "cell_type": "markdown",
   "id": "5122d366",
   "metadata": {},
   "source": [
    "Try to use a combination of your logical and comparison operations to get `True False True True False` output."
   ]
  },
  {
   "cell_type": "code",
   "execution_count": null,
   "id": "5fe92a0a",
   "metadata": {},
   "outputs": [],
   "source": [
    "# set variables here and run cell\n"
   ]
  },
  {
   "cell_type": "code",
   "execution_count": null,
   "id": "2f13e4eb",
   "metadata": {},
   "outputs": [],
   "source": [
    "# run this cell after you've executed the cell above\n",
    "print(f, g, h, i, j)"
   ]
  },
  {
   "cell_type": "markdown",
   "id": "6351b90a",
   "metadata": {},
   "source": [
    "**Let's talk about control structures!** There are three types of control structures we'll discuss today: **if statements**, **for loops**, and **while loops**.\n",
    "\n",
    "**If statements** use a conditional  (i.e. evaluates to true or false) to determine output. See an example below by executing the cell."
   ]
  },
  {
   "cell_type": "code",
   "execution_count": null,
   "id": "092f4e51",
   "metadata": {},
   "outputs": [],
   "source": [
    "age_Ahmed = 21\n",
    "\n",
    "# if statement: \n",
    "if age_Ahmed >= 18: # <-- conditional statement\n",
    "    result = \"You are an adult.\" # <-- output if True\n",
    "else:\n",
    "    result = \"You are a minor.\" # <-- output if False\n",
    "\n",
    "print(result)"
   ]
  },
  {
   "cell_type": "markdown",
   "id": "01a3faa3",
   "metadata": {},
   "source": [
    "We can also have multiple branches, to make a more complex statement, using `elif` (else if)."
   ]
  },
  {
   "cell_type": "code",
   "execution_count": null,
   "id": "a535e841",
   "metadata": {},
   "outputs": [],
   "source": [
    "if age_Ahmed < 18:\n",
    "    result = \"You are a minor.\"\n",
    "elif age_Ahmed == 21: # <-- elif branch\n",
    "    result = \"You're 21!!! Woohoo!!! #DopeMoneySwag\"\n",
    "else:\n",
    "    result = \"You are an adult.\"\n",
    "\n",
    "print(result)"
   ]
  },
  {
   "cell_type": "markdown",
   "id": "5a118117",
   "metadata": {},
   "source": [
    "Try creating your own if-elif-else statement below. Change your variables to try and reach all possible outputs."
   ]
  },
  {
   "cell_type": "code",
   "execution_count": null,
   "id": "9835f8e6",
   "metadata": {},
   "outputs": [],
   "source": [
    "# try your own if statement here\n"
   ]
  },
  {
   "cell_type": "markdown",
   "id": "43a2c1c1",
   "metadata": {},
   "source": [
    "**For loops** iterate over an object in Python (i.e. lists), completing a series of actions until completion. We haven't gone over lists in Python yet, but they are pretty simple: they are a collection of values, separated by commas and contained within a pair of brackets (i.e. `[1, 2, 3, 4, 5]`).\n",
    "\n",
    "See an example below by executing the cell."
   ]
  },
  {
   "cell_type": "code",
   "execution_count": null,
   "id": "831485bd",
   "metadata": {},
   "outputs": [],
   "source": [
    "fruits = ['apple', 'banana', 'cherry']\n",
    "for fruit in fruits: # <-- for (item) in (set of items)\n",
    "    print(fruit)"
   ]
  },
  {
   "cell_type": "markdown",
   "id": "f04ef71b",
   "metadata": {},
   "source": [
    "We can make the inner part of a for loop more complicated. Execute the next two cells."
   ]
  },
  {
   "cell_type": "code",
   "execution_count": null,
   "id": "a0d29b20",
   "metadata": {},
   "outputs": [],
   "source": [
    "fruits.append('persimmon') # appends a value to the end of a list!"
   ]
  },
  {
   "cell_type": "code",
   "execution_count": null,
   "id": "5073ed31",
   "metadata": {},
   "outputs": [],
   "source": [
    "for f in fruits:\n",
    "    if f == 'persimmon':\n",
    "        print(f, \"... aren't we fancy?!\")\n",
    "    elif f == 'kiwi':\n",
    "        # notice how this never prints! :)\n",
    "        print(f, \"... don't be silly. kiwis aren't real\")\n",
    "    else:\n",
    "        print(f, \"... ok!\")"
   ]
  },
  {
   "cell_type": "markdown",
   "id": "2eda5b26",
   "metadata": {},
   "source": [
    "Finally, we can nest for loops. See the example below."
   ]
  },
  {
   "cell_type": "code",
   "execution_count": null,
   "id": "b1ec6486",
   "metadata": {},
   "outputs": [],
   "source": [
    "for f in fruits:\n",
    "    print(\"here's how to spell\", f, \":\")\n",
    "    for letter in f: # <-- item f becomes set of items in the inner loop\n",
    "        print(letter)\n",
    "    print(\"all done!\\n\")"
   ]
  },
  {
   "cell_type": "markdown",
   "id": "5ce97569",
   "metadata": {},
   "source": [
    "Try creating your own list and for loop below."
   ]
  },
  {
   "cell_type": "code",
   "execution_count": null,
   "id": "b9b7367a",
   "metadata": {},
   "outputs": [],
   "source": [
    "# try your own list creation and for loop statement here\n"
   ]
  },
  {
   "cell_type": "markdown",
   "id": "e31d0f12",
   "metadata": {},
   "source": [
    "**While loops** use a conditional statement to determine whether or not it is supposed to run the contents within it. Be careful: this opens the possibility of creating an INFINITE LOOP! Make sure to consider what you're putting in a while loop with diligence.\n",
    "\n",
    "See the example below."
   ]
  },
  {
   "cell_type": "code",
   "execution_count": null,
   "id": "60ca87aa",
   "metadata": {},
   "outputs": [],
   "source": [
    "c = 0 \n",
    "while c < 5:\n",
    "    print(c)\n",
    "    c += 1 # <-- equivalent to c = c + 1 :)"
   ]
  },
  {
   "cell_type": "markdown",
   "id": "54842a8a",
   "metadata": {},
   "source": [
    "What would happen if we made the conditional `c <= 5`? What if we got rid of the `c += 1` line? Experiment, and then try creating your own while loop below."
   ]
  },
  {
   "cell_type": "code",
   "execution_count": null,
   "id": "abc1ad57",
   "metadata": {},
   "outputs": [],
   "source": [
    "# try your own while loop below\n"
   ]
  },
  {
   "cell_type": "markdown",
   "id": "3e21ad20",
   "metadata": {},
   "source": [
    "## data structures\n",
    "\n",
    "We'll focus on two **data structures** in this section: a review of **lists**, and **dictionaries** (which are very powerful, and can be very confusing...).\n",
    "\n",
    "As stated earlier, lists are a collection of elements (i.e. `[1, 2, 3, 4, 5]`) that are separated by commas and enclosed within brackets.\n",
    "\n",
    "Lists can contain multiple data types (integers, strings, floats, etc.).\n",
    "\n",
    "**LISTS ARE ZERO-INDEXED!!** That means that the first element in a list is the 0th element, the second is the 1st element. It takes a second to get the hang of.\n",
    "\n",
    "Here are some basic actions you can do with lists."
   ]
  },
  {
   "cell_type": "code",
   "execution_count": null,
   "id": "fc8b4d66",
   "metadata": {},
   "outputs": [],
   "source": [
    "# creating a list\n",
    "numbers = [1, 2, 3, 4, 5]\n",
    "print(\"list:\", numbers)\n",
    "print(\"length:\", len(numbers))\n",
    "\n",
    "# accessing elements\n",
    "first_number = numbers[0]\n",
    "print(\"first number:\", first_number)\n",
    "\n",
    "# slicing!\n",
    "first_three_numbers = numbers[0:3] # <-- [inclusive, exclusive]\n",
    "print(\"\\nfirst three numbers:\", first_three_numbers)\n",
    "\n",
    "last_two_numbers = numbers[3:]\n",
    "print(\"last two numbers;\", last_two_numbers)\n",
    "\n",
    "# modifying a list\n",
    "numbers.append(6)\n",
    "print(\"\\nappended 6 to list:\", numbers)\n",
    "print(\"length:\", len(numbers))\n",
    "\n",
    "numbers[1] = 1000 # <-- accessing and modifying element @ index = 1\n",
    "print(\"\\nchanged 2nd element:\", numbers)\n",
    "print(\"length:\", len(numbers))\n",
    "\n",
    "# LIST COMPREHENSION\n",
    "squares = [x**2 for x in numbers] # <-- note similar for loop format\n",
    "print(\"\\nsquares of numbers:\", squares)"
   ]
  },
  {
   "cell_type": "markdown",
   "id": "b5029df6",
   "metadata": {},
   "source": [
    "Try playing around with your own lists below (make a collection of strings, integers, floats, whatever!). Feel free to use the Python documentation for more actions you can do: https://docs.python.org/3/tutorial/datastructures.html."
   ]
  },
  {
   "cell_type": "markdown",
   "id": "11e5263c",
   "metadata": {},
   "source": [
    "**Dictionaries** consists of a collection of `key: value` pairs, separated by commas and enclosed in curly brackets (i.e. `{\"name\": \"Ahmed\", \"age\": 21, \"hometown\": \"New York\"}`.\n",
    "\n",
    "Values can be accessed and modified by using the corresponding key."
   ]
  },
  {
   "cell_type": "code",
   "execution_count": null,
   "id": "3f819e99",
   "metadata": {},
   "outputs": [],
   "source": [
    "# creating a dictionary\n",
    "person = {\n",
    "    \"name\" : \"Ahmed\",\n",
    "    \"age\" : 39,\n",
    "    \"hometown\" : \"New York\"\n",
    "}\n",
    "\n",
    "# accessing values\n",
    "print(\"This person's name is\", person[\"name\"])\n",
    "\n",
    "# modifying dictionary\n",
    "person[\"age\"] = 21\n",
    "person[\"school\"] = \"Cornell\" # <-- adding new key-value pair\n",
    "\n",
    "# iterating through dictionary\n",
    "for k, v in person.items():\n",
    "    print(\"This person's\", k, \"is\", v)"
   ]
  },
  {
   "cell_type": "markdown",
   "id": "1e625174",
   "metadata": {},
   "source": [
    "You can even have a list of dictionaries (or dictionaries in a list)! God help us all."
   ]
  },
  {
   "cell_type": "code",
   "execution_count": null,
   "id": "a0167293",
   "metadata": {},
   "outputs": [],
   "source": [
    "people = [\n",
    "    {\"name\" : \"Ahmed\", \n",
    "     \"school\" : \"Cornell\", \n",
    "     \"courses\": [\"INFO 4240\", \"ENTOM 2031\", \"INFO 1200\", \"MUSIC 1421\"]\n",
    "    },\n",
    "    {\"name\" : \"Adam\",\n",
    "     \"school\" : \"Carnegie Mellon\", \n",
    "     \"courses\": [\"CS 101\", \"ENGL 309\", \"MATH 111\"]\n",
    "    },\n",
    "    {\"name\" : \"Basma\",\n",
    "     \"school\" : \"Beacon High School\", \n",
    "     \"courses\" : [\"Psychology\", \"English\", \"AP Calculus BC\"]}\n",
    "]\n",
    "\n",
    "for person in people:\n",
    "    print(person[\"name\"])"
   ]
  },
  {
   "cell_type": "markdown",
   "id": "9fbe50e4",
   "metadata": {},
   "source": [
    "## functions\n",
    "\n",
    "To help me process the list I just made, let's employ a function in Python. Functions are defined using the `def` keyword, and parameters needed for the function can be specified after the name of the functions. Functions allow us to generalize our actions (instead of having to write an if statement over and over for a variable, we can write the if statement once and pass different values in!).\n",
    "\n",
    "Here's an example."
   ]
  },
  {
   "cell_type": "code",
   "execution_count": null,
   "id": "b9b15bd4",
   "metadata": {},
   "outputs": [],
   "source": [
    "def foo (x):\n",
    "    if x > 5:\n",
    "        result = \"greater than 5\"\n",
    "    elif x == 5 :\n",
    "        result = \"equals 5\"\n",
    "    else:\n",
    "        result = \"less than 5\"\n",
    "    return result\n",
    "\n",
    "print(5, foo(5))\n",
    "print(10, foo(10))\n",
    "print(3, foo(3))"
   ]
  },
  {
   "cell_type": "markdown",
   "id": "b2b7b379",
   "metadata": {},
   "source": [
    "Here's a function to process the `people` list from earlier."
   ]
  },
  {
   "cell_type": "code",
   "execution_count": null,
   "id": "275bbeaf",
   "metadata": {},
   "outputs": [],
   "source": [
    "def people_processing(person):\n",
    "    result = person[\"name\"] + \" goes to \" + person['school'] + \" and is taking: \"\n",
    "    for course in person[\"courses\"]:\n",
    "        result += course + \" \"\n",
    "    return result\n",
    "\n",
    "for p in people:\n",
    "    print(people_processing(p))"
   ]
  },
  {
   "cell_type": "markdown",
   "id": "9a063985",
   "metadata": {},
   "source": [
    "Pretty nifty, right?! Use the space below to practice any of the skills we just went over. Congrats—you've finished this section!"
   ]
  },
  {
   "cell_type": "code",
   "execution_count": null,
   "id": "03306e03",
   "metadata": {},
   "outputs": [],
   "source": []
  }
 ],
 "metadata": {
  "kernelspec": {
   "display_name": "Python 3 (ipykernel)",
   "language": "python",
   "name": "python3"
  },
  "language_info": {
   "codemirror_mode": {
    "name": "ipython",
    "version": 3
   },
   "file_extension": ".py",
   "mimetype": "text/x-python",
   "name": "python",
   "nbconvert_exporter": "python",
   "pygments_lexer": "ipython3",
   "version": "3.9.12"
  }
 },
 "nbformat": 4,
 "nbformat_minor": 5
}
